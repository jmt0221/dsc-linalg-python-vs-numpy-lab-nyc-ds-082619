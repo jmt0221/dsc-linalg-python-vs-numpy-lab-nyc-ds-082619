{
 "cells": [
  {
   "cell_type": "markdown",
   "metadata": {},
   "source": [
    "# Pure Python vs. Numpy - Lab\n",
    "\n",
    "## Introduction \n",
    "\n",
    "Numpy, Scipy and, Pandas provide a significant increase in computational efficiency with complex mathematical operations as compared to Python's built-in arithmetic functions. In this lab, you will calculate and compare the processing speed required for calculating a dot product using both basic arithmetic operations in Python and Numpy's `.dot()` method. \n",
    "\n",
    "## Objectives\n",
    "You will be able to:\n",
    "* Compare the performance of high-dimensional matrix operations in Numpy vs. pure Python\n",
    "\n",
    "## Problem \n",
    "\n",
    "Write a routine to calculate the dot product between two $200 \\times 200$ dimensional matrices using:\n",
    "\n",
    "a) Pure Python (no libraries)\n",
    "\n",
    "b) Numpy's `.dot()`\n",
    "\n",
    "\n",
    "### Create two $200 \\times 200$ matrices in Python and fill them with random values using `np.random.rand()` "
   ]
  },
  {
   "cell_type": "code",
   "execution_count": 5,
   "metadata": {},
   "outputs": [],
   "source": [
    "# Compare 200x200 matrix-matrix multiplication speed\n",
    "import numpy as np\n",
    "\n",
    "# Set up the variables\n",
    "A = np.random.rand(200,200)\n",
    "B = np.random.rand(200,200)"
   ]
  },
  {
   "cell_type": "code",
   "execution_count": 7,
   "metadata": {},
   "outputs": [
    {
     "data": {
      "text/plain": [
       "(200, 200)"
      ]
     },
     "execution_count": 7,
     "metadata": {},
     "output_type": "execute_result"
    }
   ],
   "source": [
    "B.shape"
   ]
  },
  {
   "cell_type": "markdown",
   "metadata": {},
   "source": [
    "## Pure Python\n",
    "\n",
    "* Initialize a zeros-filled `numpy` matrix\n",
    "* In Python, calculate the dot product using the formula \n",
    "\n",
    "\n",
    "$$ \\large C_{i,j}= \\sum_k A_{i,k}B_{k,j}$$\n",
    "\n",
    "\n",
    "* Use Python's `timeit` library to calculate the processing time\n",
    "* [Visit this link](https://www.pythoncentral.io/time-a-python-function/) for an in-depth explanation on how to time a function or routine in python\n",
    "\n",
    "**Hint**: Use a nested for loop for accessing, calculating and storing each scalar value in the resulting matrix"
   ]
  },
  {
   "cell_type": "code",
   "execution_count": 21,
   "metadata": {},
   "outputs": [
    {
     "name": "stdout",
     "output_type": "stream",
     "text": [
      "Pure Python Time: 0.23631324246525764 sec.\n"
     ]
    }
   ],
   "source": [
    "import timeit\n",
    "zero = np.zeros((200,200))\n",
    "# Start the timer\n",
    "start = timeit.default_timer()\n",
    "\n",
    "# Matrix multiplication in pure Python\n",
    "for i in range(200):\n",
    "    for j in range(200):\n",
    "        zero[i][j] = (A[i]*B[j]).sum()\n",
    "finish = timeit.timeit()\n",
    "time_spent = timeit.default_timer()-start\n",
    "zero\n",
    "print('Pure Python Time:', time_spent, 'sec.')"
   ]
  },
  {
   "cell_type": "code",
   "execution_count": 23,
   "metadata": {},
   "outputs": [
    {
     "name": "stdout",
     "output_type": "stream",
     "text": [
      "Pure Python Time: 7.6286820992827415 sec.\n"
     ]
    }
   ],
   "source": [
    "import timeit\n",
    "SIZE =200\n",
    "# Start the timer\n",
    "start = timeit.default_timer()\n",
    "\n",
    "# Matrix multiplication in pure Python\n",
    "\n",
    "out2 = np.zeros((SIZE,SIZE))\n",
    "\n",
    "for i in range(SIZE):\n",
    "  for j in range(SIZE):\n",
    "    for k in range(SIZE):\n",
    "      \n",
    "        out2[i,k] += A[i,j]*B[j,k]\n",
    "\n",
    "time_spent = timeit.default_timer() - start\n",
    "\n",
    "print('Pure Python Time:', time_spent, 'sec.')"
   ]
  },
  {
   "cell_type": "code",
   "execution_count": 24,
   "metadata": {},
   "outputs": [
    {
     "data": {
      "text/plain": [
       "array([[50.280169  , 51.45416259, 53.15494835, ..., 50.34816228,\n",
       "        50.03871915, 53.26515082],\n",
       "       [54.9883924 , 51.287343  , 56.49493846, ..., 52.76848574,\n",
       "        53.34688949, 60.03355692],\n",
       "       [52.21149788, 49.63662783, 52.77441004, ..., 51.65517185,\n",
       "        49.53935515, 55.80158574],\n",
       "       ...,\n",
       "       [49.08460412, 47.40548109, 53.23671206, ..., 48.91758611,\n",
       "        50.43459236, 51.0891352 ],\n",
       "       [50.42746435, 47.81580521, 51.76751799, ..., 48.64393921,\n",
       "        48.36717219, 56.72656305],\n",
       "       [46.6393063 , 46.94098223, 48.59699141, ..., 46.1291852 ,\n",
       "        47.09921442, 52.49181495]])"
      ]
     },
     "execution_count": 24,
     "metadata": {},
     "output_type": "execute_result"
    }
   ],
   "source": [
    "out2"
   ]
  },
  {
   "cell_type": "markdown",
   "metadata": {},
   "source": [
    "## Numpy \n",
    "Set the timer and calculate the time taken by `.dot()` function for multiplying $A$ and $B$ \n"
   ]
  },
  {
   "cell_type": "code",
   "execution_count": 5,
   "metadata": {},
   "outputs": [
    {
     "name": "stdout",
     "output_type": "stream",
     "text": [
      "Numpy Time: None sec.\n"
     ]
    }
   ],
   "source": [
    "# start the timer\n",
    "start = None\n",
    "\n",
    "# Matrix multiplication in numpy\n",
    "\n",
    "\n",
    "time_spent = None\n",
    "print('Numpy Time:', time_spent, 'sec.')"
   ]
  },
  {
   "cell_type": "markdown",
   "metadata": {},
   "source": [
    "### Your comments"
   ]
  },
  {
   "cell_type": "markdown",
   "metadata": {},
   "source": [
    "## Summary\n",
    "\n",
    "In this lab, you performed a quick comparison between calculating a dot product in Numpy vs Python built-in function. You saw that Numpy is computationally much more efficient than Python code because of the sophisticated implementation of Numpy source code. You're encouraged to always perform time tests to fully appreciate the use of an additional library in Python. "
   ]
  }
 ],
 "metadata": {
  "kernelspec": {
   "display_name": "Python 3",
   "language": "python",
   "name": "python3"
  },
  "language_info": {
   "codemirror_mode": {
    "name": "ipython",
    "version": 3
   },
   "file_extension": ".py",
   "mimetype": "text/x-python",
   "name": "python",
   "nbconvert_exporter": "python",
   "pygments_lexer": "ipython3",
   "version": "3.6.6"
  }
 },
 "nbformat": 4,
 "nbformat_minor": 2
}
